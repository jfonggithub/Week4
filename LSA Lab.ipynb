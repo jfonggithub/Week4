{
 "metadata": {
  "name": "",
  "signature": "sha256:395392e1f164c05e07d3dbf36b92d83d8bdcbaa0ab52e76aa09aed3ea65e9132"
 },
 "nbformat": 3,
 "nbformat_minor": 0,
 "worksheets": [
  {
   "cells": [
    {
     "cell_type": "code",
     "collapsed": false,
     "input": [
      "from sklearn.datasets import fetch_20newsgroups\n",
      "categories = ['rec.sport.baseball']\n",
      "dataset = fetch_20newsgroups(subset='all',shuffle=True, random_state=42, categories=categories)\n",
      "corpus = dataset.data"
     ],
     "language": "python",
     "metadata": {},
     "outputs": [],
     "prompt_number": 49
    },
    {
     "cell_type": "code",
     "collapsed": false,
     "input": [
      "from bs4 import BeautifulSoup\n",
      "import nltk\n",
      "from nltk.corpus import stopwords\n",
      "from sklearn.feature_extraction.text import TfidfVectorizer\n",
      "from sklearn.decomposition import TruncatedSVD"
     ],
     "language": "python",
     "metadata": {},
     "outputs": [],
     "prompt_number": 50
    },
    {
     "cell_type": "code",
     "collapsed": false,
     "input": [
      "nltk.download('stopwords')"
     ],
     "language": "python",
     "metadata": {},
     "outputs": [
      {
       "output_type": "stream",
       "stream": "stdout",
       "text": [
        "[nltk_data] Downloading package stopwords to\n",
        "[nltk_data]     C:\\Users\\JJ\\AppData\\Roaming\\nltk_data...\n",
        "[nltk_data]   Package stopwords is already up-to-date!\n"
       ]
      },
      {
       "metadata": {},
       "output_type": "pyout",
       "prompt_number": 51,
       "text": [
        "True"
       ]
      }
     ],
     "prompt_number": 51
    },
    {
     "cell_type": "code",
     "collapsed": false,
     "input": [
      "stopset = set(stopwords.words('english'))\n",
      "stopset.update(['From', 'Subject','com','University','writes','Organization'\n",
      "                ,'article','would','\\n','re','cs','ca','edu','university',\n",
      "                'host','nntp','lines','could','ibm','ibm','posting','00','know',\n",
      "                'subject','anyone','one','still','know','much','many','also','something',\n",
      "                'people','cc','lafayette','vb30','lafibm','uiuc','netcom','like','ve','even','going','usa','maybe',\n",
      "                'hcf','jhu','jhunix','0','1','2','3','4','5','6','7','8','9','00','000'\n",
      "                ':','-','\"','/[','/]','<','>','?'])\n",
      "\n"
     ],
     "language": "python",
     "metadata": {},
     "outputs": [],
     "prompt_number": 52
    },
    {
     "cell_type": "code",
     "collapsed": false,
     "input": [
      "corpus[4]"
     ],
     "language": "python",
     "metadata": {},
     "outputs": [
      {
       "metadata": {},
       "output_type": "pyout",
       "prompt_number": 53,
       "text": [
        "u'From: jja2h@Virginia.EDU (\"\")\\nSubject: Re: Yankee fears.\\nOrganization: University of Virginia\\nLines: 8\\n\\nHow can anyone pick the worst Yankee pitcher.  In the past 12\\nyears there have been so many.\\n\\nDoes the name Steve \"You mean I should try and throw the ball\\nto the catcher\" Trout?\\n\\nJonathan Alboum\\nUVA\\n'"
       ]
      }
     ],
     "prompt_number": 53
    },
    {
     "cell_type": "code",
     "collapsed": false,
     "input": [
      "vectorizer = TfidfVectorizer(stop_words=stopset,\n",
      "                                 use_idf=True, ngram_range=(1, 3))\n",
      "X = vectorizer.fit_transform(corpus)"
     ],
     "language": "python",
     "metadata": {},
     "outputs": [],
     "prompt_number": 54
    },
    {
     "cell_type": "code",
     "collapsed": false,
     "input": [
      "X[0]"
     ],
     "language": "python",
     "metadata": {},
     "outputs": [
      {
       "metadata": {},
       "output_type": "pyout",
       "prompt_number": 55,
       "text": [
        "<1x184716 sparse matrix of type '<type 'numpy.float64'>'\n",
        "\twith 209 stored elements in Compressed Sparse Row format>"
       ]
      }
     ],
     "prompt_number": 55
    },
    {
     "cell_type": "code",
     "collapsed": false,
     "input": [
      "print X[0]"
     ],
     "language": "python",
     "metadata": {},
     "outputs": [
      {
       "output_type": "stream",
       "stream": "stdout",
       "text": [
        "  (0, 50894)\t0.075469180053\n",
        "  (0, 183969)\t0.075469180053\n",
        "  (0, 28874)\t0.075469180053\n",
        "  (0, 142722)\t0.075469180053\n",
        "  (0, 76629)\t0.075469180053\n",
        "  (0, 129640)\t0.075469180053\n",
        "  (0, 100403)\t0.075469180053\n",
        "  (0, 65034)\t0.075469180053\n",
        "  (0, 111281)\t0.075469180053\n",
        "  (0, 158977)\t0.075469180053\n",
        "  (0, 177187)\t0.075469180053\n",
        "  (0, 116955)\t0.075469180053\n",
        "  (0, 62773)\t0.075469180053\n",
        "  (0, 100938)\t0.075469180053\n",
        "  (0, 129537)\t0.075469180053\n",
        "  (0, 139795)\t0.075469180053\n",
        "  (0, 96316)\t0.075469180053\n",
        "  (0, 111995)\t0.075469180053\n",
        "  (0, 161433)\t0.075469180053\n",
        "  (0, 59538)\t0.075469180053\n",
        "  (0, 50934)\t0.075469180053\n",
        "  (0, 35773)\t0.075469180053\n",
        "  (0, 62763)\t0.075469180053\n",
        "  (0, 50938)\t0.075469180053\n",
        "  (0, 65501)\t0.075469180053\n",
        "  :\t:\n",
        "  (0, 182350)\t0.0230534030399\n",
        "  (0, 43325)\t0.0402207318856\n",
        "  (0, 163482)\t0.0230884713469\n",
        "  (0, 32762)\t0.055099626414\n",
        "  (0, 83196)\t0.0351662975539\n",
        "  (0, 140061)\t0.0567132572092\n",
        "  (0, 119053)\t0.113426514418\n",
        "  (0, 37613)\t0.101710532758\n",
        "  (0, 40729)\t0.10740367168\n",
        "  (0, 17571)\t0.075469180053\n",
        "  (0, 93475)\t0.113426514418\n",
        "  (0, 7992)\t0.0385556617738\n",
        "  (0, 159570)\t0.0623554078184\n",
        "  (0, 47929)\t0.0398658545159\n",
        "  (0, 171549)\t0.0402207318856\n",
        "  (0, 111073)\t0.0623554078184\n",
        "  (0, 155445)\t0.0382522237207\n",
        "  (0, 29397)\t0.0314549629074\n",
        "  (0, 118283)\t0.0105523838798\n",
        "  (0, 66610)\t0.127938077227\n",
        "  (0, 50816)\t0.165298879242\n",
        "  (0, 38907)\t0.0519029279981\n",
        "  (0, 38937)\t0.0519029279981\n",
        "  (0, 97373)\t0.050855266379\n",
        "  (0, 181401)\t0.075469180053\n"
       ]
      }
     ],
     "prompt_number": 56
    },
    {
     "cell_type": "code",
     "collapsed": false,
     "input": [
      "X.shape"
     ],
     "language": "python",
     "metadata": {},
     "outputs": [
      {
       "metadata": {},
       "output_type": "pyout",
       "prompt_number": 57,
       "text": [
        "(994, 184716)"
       ]
      }
     ],
     "prompt_number": 57
    },
    {
     "cell_type": "code",
     "collapsed": false,
     "input": [
      "# Setting n_components to be 994 (same as above) causes computer to hang. \n",
      "# Therefore, a smaller number is chosen here.\n",
      "lsa = TruncatedSVD(n_components=100, n_iter=100)\n",
      "lsa.fit(X)"
     ],
     "language": "python",
     "metadata": {},
     "outputs": [
      {
       "metadata": {},
       "output_type": "pyout",
       "prompt_number": 58,
       "text": [
        "TruncatedSVD(algorithm='randomized', n_components=100, n_iter=100,\n",
        "       random_state=None, tol=0.0)"
       ]
      }
     ],
     "prompt_number": 58
    },
    {
     "cell_type": "code",
     "collapsed": false,
     "input": [
      "lsa.components_[0]"
     ],
     "language": "python",
     "metadata": {},
     "outputs": [
      {
       "metadata": {},
       "output_type": "pyout",
       "prompt_number": 59,
       "text": [
        "array([ 0.01758447,  0.00219491,  0.00052787, ...,  0.00110521,\n",
        "        0.00110521,  0.00110521])"
       ]
      }
     ],
     "prompt_number": 59
    },
    {
     "cell_type": "code",
     "collapsed": false,
     "input": [
      "terms = vectorizer.get_feature_names()\n",
      "for i, comp in enumerate(lsa.components_): \n",
      "    termsInComp = zip (terms,comp)\n",
      "    sortedTerms =  sorted(termsInComp, key=lambda x: x[1], reverse=True) [:10]\n",
      "    print \"Concept %d:\" % i\n",
      "    for term in sortedTerms:\n",
      "        print term[0]\n",
      "    print \" \""
     ],
     "language": "python",
     "metadata": {},
     "outputs": [
      {
       "output_type": "stream",
       "stream": "stdout",
       "text": [
        "Concept 0:\n",
        "year\n",
        "team\n",
        "game\n",
        "baseball\n",
        "players\n",
        "games\n",
        "good\n",
        "think\n",
        "last\n",
        "morris\n",
        " \n",
        "Concept 1:"
       ]
      },
      {
       "output_type": "stream",
       "stream": "stdout",
       "text": [
        "\n",
        "jewish\n",
        "jewish baseball\n",
        "baseball players\n",
        "jewish baseball players\n",
        "baseball\n",
        "scott\n",
        "asd\n",
        "gant\n",
        "mail\n",
        "thanks\n",
        " \n",
        "Concept 2:"
       ]
      },
      {
       "output_type": "stream",
       "stream": "stdout",
       "text": [
        "\n",
        "gant\n",
        "hirschbeck\n",
        "games\n",
        "game\n",
        "time\n",
        "duke\n",
        "pitch\n",
        "first\n",
        "big\n",
        "aix\n",
        " \n",
        "Concept 3:"
       ]
      },
      {
       "output_type": "stream",
       "stream": "stdout",
       "text": [
        "\n",
        "03\n",
        "02\n",
        "04\n",
        "won\n",
        "way\n",
        "braves\n",
        "05\n",
        "gant\n",
        "01\n",
        "lost\n",
        " \n",
        "Concept 4:"
       ]
      },
      {
       "output_type": "stream",
       "stream": "stdout",
       "text": [
        "\n",
        "clutch\n",
        "sabo\n",
        "gant\n",
        "samuel\n",
        "player\n",
        "players\n",
        "hirschbeck\n",
        "hit\n",
        "situations\n",
        "mark\n",
        " \n",
        "Concept 5:"
       ]
      },
      {
       "output_type": "stream",
       "stream": "stdout",
       "text": [
        "\n",
        "hall\n",
        "bonds\n",
        "fame\n",
        "williams\n",
        "dave\n",
        "hitter\n",
        "jack\n",
        "hall fame\n",
        "guys\n",
        "10\n",
        " \n",
        "Concept 6:"
       ]
      },
      {
       "output_type": "stream",
       "stream": "stdout",
       "text": [
        "\n",
        "morris\n",
        "clutch\n",
        "hirschbeck\n",
        "pitcher\n",
        "hall\n",
        "fame\n",
        "won\n",
        "hall fame\n",
        "al\n",
        "help\n",
        " \n",
        "Concept 7:"
       ]
      },
      {
       "output_type": "stream",
       "stream": "stdout",
       "text": [
        "\n",
        "team\n",
        "20\n",
        "hirschbeck\n",
        "won\n",
        "smith\n",
        "pitching\n",
        "say\n",
        "gant\n",
        "play\n",
        "year\n",
        " \n",
        "Concept 8:"
       ]
      },
      {
       "output_type": "stream",
       "stream": "stdout",
       "text": [
        "\n",
        "game\n",
        "team\n",
        "player\n",
        "think\n",
        "stats\n",
        "runs\n",
        "well\n",
        "new\n",
        "games\n",
        "adobe\n",
        " \n",
        "Concept 9:"
       ]
      },
      {
       "output_type": "stream",
       "stream": "stdout",
       "text": [
        "\n",
        "gant\n",
        "scott\n",
        "game\n",
        "hirschbeck\n",
        "games\n",
        "morris\n",
        "reply\n",
        "michael\n",
        "box\n",
        "smith\n",
        " \n",
        "Concept 10:"
       ]
      },
      {
       "output_type": "stream",
       "stream": "stdout",
       "text": [
        "\n",
        "team\n",
        "john\n",
        "get\n",
        "pitchers\n",
        "roger\n",
        "cubs\n",
        "clemens\n",
        "player\n",
        "bonds\n",
        "past\n",
        " \n",
        "Concept 11:"
       ]
      },
      {
       "output_type": "stream",
       "stream": "stdout",
       "text": [
        "\n",
        "game\n",
        "runs\n",
        "cubs\n",
        "ball\n",
        "clutch\n",
        "batter\n",
        "second\n",
        "series\n",
        "pitch\n",
        "big\n",
        " \n",
        "Concept 12:"
       ]
      },
      {
       "output_type": "stream",
       "stream": "stdout",
       "text": [
        "\n",
        "games\n",
        "year\n",
        "well\n",
        "braves\n",
        "get\n",
        "aix\n",
        "won\n",
        "toronto\n",
        "good\n",
        "give\n",
        " \n",
        "Concept 13:"
       ]
      },
      {
       "output_type": "stream",
       "stream": "stdout",
       "text": [
        "\n",
        "game\n",
        "team\n",
        "games\n",
        "two\n",
        "win\n",
        "ball\n",
        "see\n",
        "scott\n",
        "baseball\n",
        "york\n",
        " \n",
        "Concept 14:"
       ]
      },
      {
       "output_type": "stream",
       "stream": "stdout",
       "text": [
        "\n",
        "game\n",
        "hitter\n",
        "ball\n",
        "team\n",
        "player\n",
        "morris\n",
        "didn\n",
        "mail\n",
        "000 000 151\n",
        "rickert\n",
        " \n",
        "Concept 15:"
       ]
      },
      {
       "output_type": "stream",
       "stream": "stdout",
       "text": [
        "\n",
        "clutch\n",
        "games\n",
        "years\n",
        "aix\n",
        "players\n",
        "roger\n",
        "jewish\n",
        "alomar\n",
        "baseball\n",
        "average\n",
        " \n",
        "Concept 16:"
       ]
      },
      {
       "output_type": "stream",
       "stream": "stdout",
       "text": [
        "\n",
        "runs\n",
        "team\n",
        "series\n",
        "last year\n",
        "roger\n",
        "need\n",
        "run\n",
        "12\n",
        "long\n",
        "field\n",
        " \n",
        "Concept 17:"
       ]
      },
      {
       "output_type": "stream",
       "stream": "stdout",
       "text": [
        "\n",
        "game\n",
        "hit\n",
        "runs\n",
        "see\n",
        "new\n",
        "hitter\n",
        "help\n",
        "teams\n",
        "two\n",
        "10\n",
        " \n",
        "Concept 18:"
       ]
      },
      {
       "output_type": "stream",
       "stream": "stdout",
       "text": [
        "\n",
        "game\n",
        "roger\n",
        "big\n",
        "games\n",
        "sgi\n",
        "point\n",
        "wins\n",
        "win\n",
        "al\n",
        "last year\n",
        " \n",
        "Concept 19:"
       ]
      },
      {
       "output_type": "stream",
       "stream": "stdout",
       "text": [
        "\n",
        "see\n",
        "fans\n",
        "last\n",
        "batting\n",
        "cornell\n",
        "winning\n",
        "dodgers\n",
        "go\n",
        "probably\n",
        "ariel\n",
        " \n",
        "Concept 20:"
       ]
      },
      {
       "output_type": "stream",
       "stream": "stdout",
       "text": [
        "\n",
        "year\n",
        "games\n",
        "news\n",
        "really\n",
        "made\n",
        "clemens\n",
        "last\n",
        "10\n",
        "average\n",
        "baseball\n",
        " \n",
        "Concept 21:"
       ]
      },
      {
       "output_type": "stream",
       "stream": "stdout",
       "text": [
        "\n",
        "roger\n",
        "good\n",
        "game\n",
        "three\n",
        "think\n",
        "really\n",
        "last year\n",
        "pitch\n",
        "big\n",
        "certainly\n",
        " \n",
        "Concept 22:"
       ]
      },
      {
       "output_type": "stream",
       "stream": "stdout",
       "text": [
        "\n",
        "year\n",
        "dave\n",
        "team\n",
        "way\n",
        "players\n",
        "really\n",
        "left\n",
        "000 000 seattle\n",
        "jays\n",
        "defensive\n",
        " \n",
        "Concept 23:"
       ]
      },
      {
       "output_type": "stream",
       "stream": "stdout",
       "text": [
        "\n",
        "players\n",
        "jays\n",
        "think\n",
        "best\n",
        "time\n",
        "braves\n",
        "team\n",
        "point\n",
        "bonds\n",
        "win\n",
        " \n",
        "Concept 24:"
       ]
      },
      {
       "output_type": "stream",
       "stream": "stdout",
       "text": [
        "\n",
        "win\n",
        "play\n",
        "ball\n",
        "dave\n",
        "season\n",
        "roger\n",
        "mets\n",
        "cubs\n",
        "1992\n",
        "great\n",
        " \n",
        "Concept 25:"
       ]
      },
      {
       "output_type": "stream",
       "stream": "stdout",
       "text": [
        "\n",
        "league\n",
        "runs\n",
        "see\n",
        "series\n",
        "mike\n",
        "houston\n",
        "nl\n",
        "hitting\n",
        "believe\n",
        "team\n",
        " \n",
        "Concept 26:"
       ]
      },
      {
       "output_type": "stream",
       "stream": "stdout",
       "text": [
        "\n",
        "runs\n",
        "right\n",
        "sox\n",
        "years\n",
        "20\n",
        "yankees\n",
        "dave\n",
        "team\n",
        "make\n",
        "jewish\n",
        " \n",
        "Concept 27:"
       ]
      },
      {
       "output_type": "stream",
       "stream": "stdout",
       "text": [
        "\n",
        "hit\n",
        "year\n",
        "get\n",
        "two\n",
        "red\n",
        "batting\n",
        "probably\n",
        "braves\n",
        "trying\n",
        "real\n",
        " \n",
        "Concept 28:"
       ]
      },
      {
       "output_type": "stream",
       "stream": "stdout",
       "text": [
        "\n",
        "better\n",
        "braves\n",
        "average\n",
        "pitching\n",
        "blue\n",
        "san\n",
        "let\n",
        "ever\n",
        "team\n",
        "jewish\n",
        " \n",
        "Concept 29:"
       ]
      },
      {
       "output_type": "stream",
       "stream": "stdout",
       "text": [
        "\n",
        "first\n",
        "players\n",
        "ny\n",
        "doesn\n",
        "baseball\n",
        "runs\n",
        "play\n",
        "home\n",
        "distribution\n",
        "hitting\n",
        " \n",
        "Concept 30:"
       ]
      },
      {
       "output_type": "stream",
       "stream": "stdout",
       "text": [
        "\n",
        "first\n",
        "hit\n",
        "players\n",
        "career\n",
        "believe\n",
        "left\n",
        "probably\n",
        "morris\n",
        "play\n",
        "david\n",
        " \n",
        "Concept 31:"
       ]
      },
      {
       "output_type": "stream",
       "stream": "stdout",
       "text": [
        "\n",
        "season\n",
        "run\n",
        "baseball\n",
        "pitcher\n",
        "players\n",
        "way\n",
        "mark\n",
        "stats\n",
        "see\n",
        "get\n",
        " \n",
        "Concept 32:"
       ]
      },
      {
       "output_type": "stream",
       "stream": "stdout",
       "text": [
        "\n",
        "batting\n",
        "since\n",
        "20\n",
        "15\n",
        "little\n",
        "stats\n",
        "jewish\n",
        "gant\n",
        "koufax\n",
        "13\n",
        " \n",
        "Concept 33:"
       ]
      },
      {
       "output_type": "stream",
       "stream": "stdout",
       "text": [
        "\n",
        "get\n",
        "win\n",
        "john\n",
        "hit\n",
        "distribution\n",
        "players\n",
        "may\n",
        "last\n",
        "red\n",
        "without\n",
        " \n",
        "Concept 34:"
       ]
      },
      {
       "output_type": "stream",
       "stream": "stdout",
       "text": [
        "\n",
        "come\n",
        "runs\n",
        "000\n",
        "team\n",
        "average\n",
        "new\n",
        "long\n",
        "games\n",
        "last year\n",
        "least\n",
        " \n",
        "Concept 35:"
       ]
      },
      {
       "output_type": "stream",
       "stream": "stdout",
       "text": [
        "\n",
        "runs\n",
        "world\n",
        "players\n",
        "play\n",
        "season\n",
        "batting\n",
        "hit\n",
        "pitch\n",
        "clutch\n",
        "reply\n",
        " \n",
        "Concept 36:"
       ]
      },
      {
       "output_type": "stream",
       "stream": "stdout",
       "text": [
        "\n",
        "team\n",
        "win\n",
        "right\n",
        "two\n",
        "ball\n",
        "better\n",
        "long\n",
        "barry\n",
        "sox\n",
        "play\n",
        " \n",
        "Concept 37:"
       ]
      },
      {
       "output_type": "stream",
       "stream": "stdout",
       "text": [
        "\n",
        "way\n",
        "season\n",
        "hitting\n",
        "home\n",
        "right\n",
        "base\n",
        "players\n",
        "teams\n",
        "play\n",
        "baseball\n",
        " \n",
        "Concept 38:"
       ]
      },
      {
       "output_type": "stream",
       "stream": "stdout",
       "text": [
        "\n",
        "runs\n",
        "really\n",
        "three\n",
        "right\n",
        "series\n",
        "fans\n",
        "years\n",
        "sox\n",
        "1992\n",
        "phillies\n",
        " \n",
        "Concept 39:"
       ]
      },
      {
       "output_type": "stream",
       "stream": "stdout",
       "text": [
        "\n",
        "might\n",
        "runs\n",
        "new\n",
        "let\n",
        "better\n",
        "least\n",
        "players\n",
        "clemens\n",
        "bonds\n",
        "go\n",
        " \n",
        "Concept 40:"
       ]
      },
      {
       "output_type": "stream",
       "stream": "stdout",
       "text": [
        "\n",
        "10\n",
        "sox\n",
        "first\n",
        "base\n",
        "give\n",
        "john\n",
        "rather\n",
        "pitchers\n",
        "1993\n",
        "power\n",
        " \n",
        "Concept 41:"
       ]
      },
      {
       "output_type": "stream",
       "stream": "stdout",
       "text": [
        "\n",
        "braves\n",
        "hit\n",
        "giants\n",
        "guys\n",
        "13\n",
        "colorado\n",
        "kingston\n",
        "mail\n",
        "aix kingston\n",
        "toronto\n",
        " \n",
        "Concept 42:"
       ]
      },
      {
       "output_type": "stream",
       "stream": "stdout",
       "text": [
        "\n",
        "david\n",
        "hit\n",
        "last\n",
        "first\n",
        "make\n",
        "distribution\n",
        "series\n",
        "day\n",
        "sox\n",
        "pitcher\n",
        " \n",
        "Concept 43:"
       ]
      },
      {
       "output_type": "stream",
       "stream": "stdout",
       "text": [
        "\n",
        "games\n",
        "win\n",
        "good\n",
        "say\n",
        "let\n",
        "really\n",
        "season\n",
        "come\n",
        "jewish\n",
        "actually\n",
        " \n",
        "Concept 44:"
       ]
      },
      {
       "output_type": "stream",
       "stream": "stdout",
       "text": [
        "\n",
        "john\n",
        "player\n",
        "new\n",
        "good\n",
        "first\n",
        "way\n",
        "era\n",
        "22\n",
        "better\n",
        "great\n",
        " \n",
        "Concept 45:"
       ]
      },
      {
       "output_type": "stream",
       "stream": "stdout",
       "text": [
        "\n",
        "actually\n",
        "see\n",
        "another\n",
        "last year\n",
        "distribution\n",
        "batting\n",
        "princeton\n",
        "play\n",
        "red\n",
        "better\n",
        " \n",
        "Concept 46:"
       ]
      },
      {
       "output_type": "stream",
       "stream": "stdout",
       "text": [
        "\n",
        "league\n",
        "game\n",
        "make\n",
        "world\n",
        "braves\n",
        "20\n",
        "hit\n",
        "defensive\n",
        "16\n",
        "two\n",
        " \n",
        "Concept 47:"
       ]
      },
      {
       "output_type": "stream",
       "stream": "stdout",
       "text": [
        "\n",
        "pitch\n",
        "might\n",
        "new\n",
        "game\n",
        "year\n",
        "go\n",
        "three\n",
        "start\n",
        "pitchers\n",
        "time\n",
        " \n",
        "Concept 48:"
       ]
      },
      {
       "output_type": "stream",
       "stream": "stdout",
       "text": [
        "\n",
        "won\n",
        "way\n",
        "games\n",
        "dave\n",
        "batting\n",
        "runs\n",
        "see\n",
        "mail\n",
        "guess\n",
        "jewish baseball\n",
        " \n",
        "Concept 49:"
       ]
      },
      {
       "output_type": "stream",
       "stream": "stdout",
       "text": [
        "\n",
        "runs\n",
        "games\n",
        "get\n",
        "player\n",
        "average\n",
        "list\n",
        "morris\n",
        "didn\n",
        "hitter\n",
        "run\n",
        " \n",
        "Concept 50:"
       ]
      },
      {
       "output_type": "stream",
       "stream": "stdout",
       "text": [
        "\n",
        "lot\n",
        "braves\n",
        "think\n",
        "alomar\n",
        "help\n",
        "day\n",
        "see\n",
        "didn\n",
        "morris\n",
        "000 000 067\n",
        " \n",
        "Concept 51:"
       ]
      },
      {
       "output_type": "stream",
       "stream": "stdout",
       "text": [
        "\n",
        "pitching\n",
        "players\n",
        "mets\n",
        "first\n",
        "series\n",
        "runs\n",
        "11\n",
        "season\n",
        "think\n",
        "win\n",
        " \n",
        "Concept 52:"
       ]
      },
      {
       "output_type": "stream",
       "stream": "stdout",
       "text": [
        "\n",
        "win\n",
        "bob\n",
        "pitcher\n",
        "cornell\n",
        "game\n",
        "team\n",
        "john\n",
        "pitching\n",
        "pretty\n",
        "get\n",
        " \n",
        "Concept 53:"
       ]
      },
      {
       "output_type": "stream",
       "stream": "stdout",
       "text": [
        "\n",
        "morris\n",
        "world\n",
        "year\n",
        "runs\n",
        "two\n",
        "better\n",
        "look\n",
        "12\n",
        "new\n",
        "last\n",
        " \n",
        "Concept 54:"
       ]
      },
      {
       "output_type": "stream",
       "stream": "stdout",
       "text": [
        "\n",
        "distribution\n",
        "pitching\n",
        "years\n",
        "mets\n",
        "12\n",
        "000\n",
        "world\n",
        "yankees\n",
        "lot\n",
        "hit\n",
        " \n",
        "Concept 55:"
       ]
      },
      {
       "output_type": "stream",
       "stream": "stdout",
       "text": [
        "\n",
        "season\n",
        "games\n",
        "two\n",
        "pitcher\n",
        "fans\n",
        "10\n",
        "new\n",
        "hit\n",
        "ll\n",
        "years\n",
        " \n",
        "Concept 56:"
       ]
      },
      {
       "output_type": "stream",
       "stream": "stdout",
       "text": [
        "\n",
        "games\n",
        "first\n",
        "hit\n",
        "team\n",
        "players\n",
        "well\n",
        "doesn\n",
        "won\n",
        "best\n",
        "last year\n",
        " \n",
        "Concept 57:"
       ]
      },
      {
       "output_type": "stream",
       "stream": "stdout",
       "text": [
        "\n",
        "time\n",
        "come\n",
        "news\n",
        "best\n",
        "ever\n",
        "david\n",
        "team\n",
        "john\n",
        "000 000 151\n",
        "line\n",
        " \n",
        "Concept 58:"
       ]
      },
      {
       "output_type": "stream",
       "stream": "stdout",
       "text": [
        "\n",
        "distribution\n",
        "bonds\n",
        "say\n",
        "big\n",
        "trying\n",
        "10\n",
        "000 000 74\n",
        "13\n",
        "want\n",
        "make\n",
        " \n",
        "Concept 59:"
       ]
      },
      {
       "output_type": "stream",
       "stream": "stdout",
       "text": [
        "\n",
        "won\n",
        "baseball\n",
        "better\n",
        "home\n",
        "year\n",
        "game\n",
        "000 000 151\n",
        "david\n",
        "runs\n",
        "series\n",
        " \n",
        "Concept 60:"
       ]
      },
      {
       "output_type": "stream",
       "stream": "stdout",
       "text": [
        "\n",
        "000\n",
        "take\n",
        "jewish\n",
        "mike\n",
        "let\n",
        "won\n",
        "ll\n",
        "000 000 didn\n",
        "see\n",
        "get\n",
        " \n",
        "Concept 61:"
       ]
      },
      {
       "output_type": "stream",
       "stream": "stdout",
       "text": [
        "\n",
        "games\n",
        "time\n",
        "team\n",
        "ll\n",
        "first\n",
        "go\n",
        "two\n",
        "good\n",
        "may\n",
        "000 000 next\n",
        " \n",
        "Concept 62:"
       ]
      },
      {
       "output_type": "stream",
       "stream": "stdout",
       "text": [
        "\n",
        "game\n",
        "home\n",
        "runs\n",
        "000\n",
        "get\n",
        "baseball\n",
        "two\n",
        "blue\n",
        "mets\n",
        "might\n",
        " \n",
        "Concept 63:"
       ]
      },
      {
       "output_type": "stream",
       "stream": "stdout",
       "text": [
        "\n",
        "runs\n",
        "roger\n",
        "pitching\n",
        "hit\n",
        "well\n",
        "past\n",
        "got\n",
        "fans\n",
        "say\n",
        "better\n",
        " \n",
        "Concept 64:"
       ]
      },
      {
       "output_type": "stream",
       "stream": "stdout",
       "text": [
        "\n",
        "way\n",
        "nl\n",
        "average\n",
        "baseball\n",
        "thanks\n",
        "game\n",
        "might\n",
        "certainly\n",
        "fan\n",
        "give\n",
        " \n",
        "Concept 65:"
       ]
      },
      {
       "output_type": "stream",
       "stream": "stdout",
       "text": [
        "\n",
        "runs\n",
        "year\n",
        "braves\n",
        "players\n",
        "average\n",
        "second\n",
        "000 000 74\n",
        "performance\n",
        "last year\n",
        "1993\n",
        " \n",
        "Concept 66:"
       ]
      },
      {
       "output_type": "stream",
       "stream": "stdout",
       "text": [
        "\n",
        "braves\n",
        "000\n",
        "league\n",
        "ll\n",
        "world\n",
        "go\n",
        "morris\n",
        "best\n",
        "games\n",
        "10\n",
        " \n",
        "Concept 67:"
       ]
      },
      {
       "output_type": "stream",
       "stream": "stdout",
       "text": [
        "\n",
        "win\n",
        "look\n",
        "team\n",
        "let\n",
        "say\n",
        "16\n",
        "day\n",
        "ball\n",
        "10\n",
        "year\n",
        " \n",
        "Concept 68:"
       ]
      },
      {
       "output_type": "stream",
       "stream": "stdout",
       "text": [
        "\n",
        "think\n",
        "better\n",
        "game\n",
        "team\n",
        "hit\n",
        "players\n",
        "run\n",
        "time\n",
        "number\n",
        "20\n",
        " \n",
        "Concept 69:"
       ]
      },
      {
       "output_type": "stream",
       "stream": "stdout",
       "text": [
        "\n",
        "000\n",
        "team\n",
        "baseball\n",
        "year\n",
        "season\n",
        "see\n",
        "time\n",
        "last\n",
        "bonds\n",
        "hitting\n",
        " \n",
        "Concept 70:"
       ]
      },
      {
       "output_type": "stream",
       "stream": "stdout",
       "text": [
        "\n",
        "000\n",
        "go\n",
        "pitcher\n",
        "game\n",
        "batting\n",
        "make\n",
        "think\n",
        "baseball\n",
        "may\n",
        "thanks\n",
        " \n",
        "Concept 71:"
       ]
      },
      {
       "output_type": "stream",
       "stream": "stdout",
       "text": [
        "\n",
        "000\n",
        "go\n",
        "think\n",
        "say\n",
        "hit\n",
        "first\n",
        "two\n",
        "us\n",
        "braves\n",
        "start\n",
        " \n",
        "Concept 72:"
       ]
      },
      {
       "output_type": "stream",
       "stream": "stdout",
       "text": [
        "\n",
        "000\n",
        "players\n",
        "team\n",
        "well\n",
        "though\n",
        "time\n",
        "sox\n",
        "david\n",
        "right\n",
        "didn\n",
        " \n",
        "Concept 73:"
       ]
      },
      {
       "output_type": "stream",
       "stream": "stdout",
       "text": [
        "\n",
        "000\n",
        "braves\n",
        "way\n",
        "pitching\n",
        "games\n",
        "runs\n",
        "baseball\n",
        "doesn\n",
        "run\n",
        "best\n",
        " \n",
        "Concept 74:"
       ]
      },
      {
       "output_type": "stream",
       "stream": "stdout",
       "text": [
        "\n",
        "year\n",
        "good\n",
        "league\n",
        "games\n",
        "go\n",
        "base\n",
        "us\n",
        "play\n",
        "bad\n",
        "cornell\n",
        " \n",
        "Concept 75:"
       ]
      },
      {
       "output_type": "stream",
       "stream": "stdout",
       "text": [
        "\n",
        "000\n",
        "least\n",
        "hitter\n",
        "mark\n",
        "really\n",
        "ll\n",
        "team\n",
        "bad\n",
        "pitcher\n",
        "world\n",
        " \n",
        "Concept 76:"
       ]
      },
      {
       "output_type": "stream",
       "stream": "stdout",
       "text": [
        "\n",
        "baseball\n",
        "good\n",
        "batting\n",
        "sox\n",
        "team\n",
        "two\n",
        "player\n",
        "lot\n",
        "fan\n",
        "win\n",
        " \n",
        "Concept 77:"
       ]
      },
      {
       "output_type": "stream",
       "stream": "stdout",
       "text": [
        "\n",
        "000\n",
        "year\n",
        "win\n",
        "didn\n",
        "two\n",
        "pitcher\n",
        "last year\n",
        "get\n",
        "think\n",
        "john\n",
        " \n",
        "Concept 78:"
       ]
      },
      {
       "output_type": "stream",
       "stream": "stdout",
       "text": [
        "\n",
        "game\n",
        "time\n",
        "really\n",
        "think\n",
        "get\n",
        "win\n",
        "year\n",
        "league\n",
        "12\n",
        "best\n",
        " \n",
        "Concept 79:"
       ]
      },
      {
       "output_type": "stream",
       "stream": "stdout",
       "text": [
        "\n",
        "good\n",
        "last\n",
        "distribution\n",
        "win\n",
        "might\n",
        "best\n",
        "hit\n",
        "ball\n",
        "jays\n",
        "mail\n",
        " \n",
        "Concept 80:"
       ]
      },
      {
       "output_type": "stream",
       "stream": "stdout",
       "text": [
        "\n",
        "get\n",
        "win\n",
        "league\n",
        "baseball\n",
        "pitching\n",
        "players\n",
        "time\n",
        "phillies\n",
        "best\n",
        "doesn\n",
        " \n",
        "Concept 81:"
       ]
      },
      {
       "output_type": "stream",
       "stream": "stdout",
       "text": [
        "\n",
        "good\n",
        "first\n",
        "000\n",
        "least\n",
        "games\n",
        "hit\n",
        "player\n",
        "won\n",
        "really\n",
        "two\n",
        " \n",
        "Concept 82:"
       ]
      },
      {
       "output_type": "stream",
       "stream": "stdout",
       "text": [
        "\n",
        "first\n",
        "000\n",
        "see\n",
        "runs\n",
        "two\n",
        "go\n",
        "good\n",
        "right\n",
        "back\n",
        "year\n",
        " \n",
        "Concept 83:"
       ]
      },
      {
       "output_type": "stream",
       "stream": "stdout",
       "text": [
        "\n",
        "good\n",
        "time\n",
        "morris\n",
        "season\n",
        "years\n",
        "get\n",
        "win\n",
        "pitching\n",
        "won\n",
        "look\n",
        " \n",
        "Concept 84:"
       ]
      },
      {
       "output_type": "stream",
       "stream": "stdout",
       "text": [
        "\n",
        "000\n",
        "go\n",
        "league\n",
        "ll\n",
        "ted\n",
        "jays\n",
        "better\n",
        "years\n",
        "rather\n",
        "last\n",
        " \n",
        "Concept 85:"
       ]
      },
      {
       "output_type": "stream",
       "stream": "stdout",
       "text": [
        "\n",
        "years\n",
        "really\n",
        "two\n",
        "hitting\n",
        "say\n",
        "didn\n",
        "ll\n",
        "stats\n",
        "season\n",
        "pitch\n",
        " \n",
        "Concept 86:"
       ]
      },
      {
       "output_type": "stream",
       "stream": "stdout",
       "text": [
        "\n",
        "league\n",
        "baseball\n",
        "team\n",
        "season\n",
        "think\n",
        "first\n",
        "game\n",
        "ted\n",
        "best\n",
        "new\n",
        " \n",
        "Concept 87:"
       ]
      },
      {
       "output_type": "stream",
       "stream": "stdout",
       "text": [
        "\n",
        "game\n",
        "time\n",
        "players\n",
        "best\n",
        "run\n",
        "might\n",
        "roger\n",
        "base\n",
        "000\n",
        "well\n",
        " \n",
        "Concept 88:"
       ]
      },
      {
       "output_type": "stream",
       "stream": "stdout",
       "text": [
        "\n",
        "think\n",
        "season\n",
        "day\n",
        "distribution\n",
        "20\n",
        "run\n",
        "come\n",
        "morris\n",
        "time\n",
        "pitcher\n",
        " \n",
        "Concept 89:"
       ]
      },
      {
       "output_type": "stream",
       "stream": "stdout",
       "text": [
        "\n",
        "better\n",
        "runs\n",
        "year\n",
        "baseball\n",
        "made\n",
        "really\n",
        "come\n",
        "dave\n",
        "000 000 067\n",
        "20\n",
        " \n",
        "Concept 90:"
       ]
      },
      {
       "output_type": "stream",
       "stream": "stdout",
       "text": [
        "\n",
        "good\n",
        "well\n",
        "players\n",
        "back\n",
        "000\n",
        "000 000 151\n",
        "years\n",
        "right\n",
        "get\n",
        "might\n",
        " \n",
        "Concept 91:"
       ]
      },
      {
       "output_type": "stream",
       "stream": "stdout",
       "text": [
        "\n",
        "well\n",
        "game\n",
        "time\n",
        "last\n",
        "john\n",
        "two\n",
        "get\n",
        "career\n",
        "bob\n",
        "doesn\n",
        " \n",
        "Concept 92:"
       ]
      },
      {
       "output_type": "stream",
       "stream": "stdout",
       "text": [
        "\n",
        "time\n",
        "win\n",
        "think\n",
        "player\n",
        "really\n",
        "see\n",
        "league\n",
        "well\n",
        "run\n",
        "two\n",
        " \n",
        "Concept 93:"
       ]
      },
      {
       "output_type": "stream",
       "stream": "stdout",
       "text": [
        "\n",
        "baseball\n",
        "last\n",
        "000 000 seattle\n",
        "go\n",
        "ll\n",
        "hit\n",
        "win\n",
        "morris\n",
        "time\n",
        "hitting\n",
        " \n",
        "Concept 94:"
       ]
      },
      {
       "output_type": "stream",
       "stream": "stdout",
       "text": [
        "\n",
        "players\n",
        "games\n",
        "think\n",
        "000 000 seattle\n",
        "two\n",
        "better\n",
        "come\n",
        "pitcher\n",
        "right\n",
        "see\n",
        " \n",
        "Concept 95:"
       ]
      },
      {
       "output_type": "stream",
       "stream": "stdout",
       "text": [
        "\n",
        "year\n",
        "say\n",
        "baseball\n",
        "good\n",
        "think\n",
        "team\n",
        "world\n",
        "years\n",
        "000\n",
        "long\n",
        " \n",
        "Concept 96:"
       ]
      },
      {
       "output_type": "stream",
       "stream": "stdout",
       "text": [
        "\n",
        "better\n",
        "baseball\n",
        "time\n",
        "years\n",
        "see\n",
        "000 000 seattle\n",
        "good\n",
        "left\n",
        "play\n",
        "last\n",
        " \n",
        "Concept 97:"
       ]
      },
      {
       "output_type": "stream",
       "stream": "stdout",
       "text": [
        "\n",
        "last\n",
        "players\n",
        "team\n",
        "hit\n",
        "000 000 assuming\n",
        "10\n",
        "good\n",
        "pitching\n",
        "000 000 kasai\n",
        "let\n",
        " \n",
        "Concept 98:"
       ]
      },
      {
       "output_type": "stream",
       "stream": "stdout",
       "text": [
        "\n",
        "000 000 seattle\n",
        "000 006\n",
        "best\n",
        "000 000 74\n",
        "better\n",
        "well\n",
        "000 000 assuming\n",
        "hit\n",
        "games\n",
        "mark\n",
        " \n",
        "Concept 99:"
       ]
      },
      {
       "output_type": "stream",
       "stream": "stdout",
       "text": [
        "\n",
        "000 000 151\n",
        "000 006\n",
        "000 000 assuming\n",
        "000 000 kasai\n",
        "000 000 next\n",
        "better\n",
        "000 000 seattle\n",
        "doesn\n",
        "win\n",
        "organization\n",
        " \n"
       ]
      }
     ],
     "prompt_number": 60
    },
    {
     "cell_type": "code",
     "collapsed": false,
     "input": [],
     "language": "python",
     "metadata": {},
     "outputs": [],
     "prompt_number": 60
    }
   ],
   "metadata": {}
  }
 ]
}